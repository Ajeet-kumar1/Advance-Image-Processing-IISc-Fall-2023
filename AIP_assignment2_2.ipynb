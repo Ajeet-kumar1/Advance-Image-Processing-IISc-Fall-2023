{
  "cells": [
    {
      "cell_type": "markdown",
      "metadata": {
        "id": "D-YWwoR-rTfV"
      },
      "source": [
        "Second try"
      ]
    },
    {
      "cell_type": "code",
      "execution_count": null,
      "metadata": {
        "colab": {
          "base_uri": "https://localhost:8080/"
        },
        "id": "W9psqs23rYju",
        "outputId": "eafee852-dab8-48c2-ca37-fc899e86a8c1"
      },
      "outputs": [
        {
          "name": "stdout",
          "output_type": "stream",
          "text": [
            "Mounted at /content/drive\n"
          ]
        }
      ],
      "source": [
        "# mount the drive to load the dataset\n",
        "from google.colab import drive\n",
        "drive.mount('/content/drive')"
      ]
    },
    {
      "cell_type": "code",
      "execution_count": null,
      "metadata": {
        "id": "_NM-jU2orU7G"
      },
      "outputs": [],
      "source": [
        "# Import pre-requisite\n",
        "import cv2\n",
        "import os\n",
        "import numpy as np\n",
        "import torch\n",
        "import torch.nn as nn\n",
        "import torch.optim as optim\n",
        "import torchvision\n",
        "from torchvision import datasets, models, transforms\n",
        "import matplotlib.pyplot as plt\n",
        "# Apply TPU device\n",
        "device = torch.device(\"cuda:0\" if torch.cuda.is_available() else \"cpu\") "
      ]
    },
    {
      "cell_type": "markdown",
      "metadata": {
        "id": "RMw_maVw0Vi3"
      },
      "source": [
        "This is dataset transformation method for ResNet model. It first resize to 224x224 shape, Perform data augmentation, convert into Tensor, and Normalize. "
      ]
    },
    {
      "cell_type": "code",
      "execution_count": null,
      "metadata": {
        "id": "jEZZdSyvrVxf"
      },
      "outputs": [],
      "source": [
        "# resize, Augment, and Normalize train dataset\n",
        "transforms_train = transforms.Compose([\n",
        "    transforms.Resize((224, 224)),  \n",
        "    transforms.RandomResizedCrop(224),\n",
        "    transforms.RandomHorizontalFlip(), \n",
        "    transforms.ToTensor(),\n",
        "    transforms.Normalize([0.485, 0.456, 0.406], [0.229, 0.224, 0.225]) \n",
        "])\n",
        "# Perform same for test data set\n",
        "transforms_test = transforms.Compose([\n",
        "    transforms.Resize((224, 224)),   #must same as here\n",
        "     transforms.CenterCrop((224, 224)),\n",
        "    transforms.ToTensor(),\n",
        "    transforms.Normalize([0.485, 0.456, 0.406], [0.229, 0.224, 0.225])\n",
        "])"
      ]
    },
    {
      "cell_type": "code",
      "execution_count": null,
      "metadata": {
        "colab": {
          "base_uri": "https://localhost:8080/"
        },
        "id": "am9QLo9prwcJ",
        "outputId": "9f607b45-a30a-4399-f6ab-d5fe8475b6c3"
      },
      "outputs": [
        {
          "name": "stdout",
          "output_type": "stream",
          "text": [
            "Train dataset size: 532\n",
            "Test dataset size: 120\n",
            "Class names: ['bear', 'butterfly', 'camel', 'chimp', 'duck', 'elephant']\n"
          ]
        }
      ],
      "source": [
        "# Give the directory of train and test dataset\n",
        "train_dir = \"/content/drive/MyDrive/Training Images/AIP_image/train/\"\n",
        "test_dir = \"/content/drive/MyDrive/Training Images/AIP_image/test/\"\n",
        "# Load dataset and apply transformation on them\n",
        "train_dataset = datasets.ImageFolder(train_dir, transforms_train)\n",
        "test_dataset = datasets.ImageFolder(test_dir, transforms_test)\n",
        "# Create a batch size of 12 \n",
        "train_dataloader = torch.utils.data.DataLoader(train_dataset, batch_size=12, shuffle=True, num_workers=2)\n",
        "test_dataloader = torch.utils.data.DataLoader(test_dataset, batch_size=12, shuffle=False, num_workers=2)\n",
        "# Now print the number of train and test data\n",
        "print('Train dataset size:', len(train_dataset))\n",
        "print('Test dataset size:', len(test_dataset))\n",
        "print('Class names:', train_dataset.classes)"
      ]
    },
    {
      "cell_type": "markdown",
      "metadata": {
        "id": "QBRxDXX42Kg1"
      },
      "source": [
        "Now load pretrained model and replace last layer with containing number of classes.\n"
      ]
    },
    {
      "cell_type": "code",
      "execution_count": null,
      "metadata": {
        "colab": {
          "base_uri": "https://localhost:8080/",
          "height": 156,
          "referenced_widgets": [
            "66616efdfba04848858a51cbbebfc836",
            "e732504e0b344fb3b4dc769b9ebaeaf3",
            "4a857f50b899427c9390fa46d394bb3d",
            "88776b45b23f42789044e9977be371ba",
            "68e9938c426f49398d1faed1bf21074d",
            "c35e9d523e1d4a27af2dc7a02322e23e",
            "33ca895341c541059fdd904ee82838da",
            "f053c87951a6455d9c254203d47a47fa",
            "2417b6824e0b4848b4257206a9185dbb",
            "b58f9a19042d4b7083d37df288c8945b",
            "5ae4d5e57b3b4f35a19e9a71288cc7f0"
          ]
        },
        "id": "ZEyi4kfzsC7V",
        "outputId": "165d17ad-d134-42e8-8a4c-cb90adb12ea1"
      },
      "outputs": [
        {
          "name": "stderr",
          "output_type": "stream",
          "text": [
            "/usr/local/lib/python3.8/dist-packages/torchvision/models/_utils.py:208: UserWarning: The parameter 'pretrained' is deprecated since 0.13 and may be removed in the future, please use 'weights' instead.\n",
            "  warnings.warn(\n",
            "/usr/local/lib/python3.8/dist-packages/torchvision/models/_utils.py:223: UserWarning: Arguments other than a weight enum or `None` for 'weights' are deprecated since 0.13 and may be removed in the future. The current behavior is equivalent to passing `weights=ResNet18_Weights.IMAGENET1K_V1`. You can also use `weights=ResNet18_Weights.DEFAULT` to get the most up-to-date weights.\n",
            "  warnings.warn(msg)\n",
            "Downloading: \"https://download.pytorch.org/models/resnet18-f37072fd.pth\" to /root/.cache/torch/hub/checkpoints/resnet18-f37072fd.pth\n"
          ]
        },
        {
          "data": {
            "application/vnd.jupyter.widget-view+json": {
              "model_id": "66616efdfba04848858a51cbbebfc836",
              "version_major": 2,
              "version_minor": 0
            },
            "text/plain": [
              "  0%|          | 0.00/44.7M [00:00<?, ?B/s]"
            ]
          },
          "metadata": {},
          "output_type": "display_data"
        }
      ],
      "source": [
        "model = models.resnet18(pretrained=True)                                 # Load resnet18 model and keep pretrained=True inorder to fine tune it.\n",
        "num_features = model.fc.in_features                                      # Extract fc layers features.\n",
        "model.fc = nn.Linear(num_features, 6)                                    # Now put the input and output shape. Here number of features are input and classes are output.\n",
        "model = model.to(device)                                                 # Pass it through TPU\n",
        "criterion = nn.CrossEntropyLoss()                                        # Set cross entropy loss and SGD optimizer.\n",
        "optimizer = optim.SGD(model.parameters(), lr=0.001, momentum=0.9)\n"
      ]
    },
    {
      "cell_type": "markdown",
      "metadata": {
        "id": "r9VDAIpO3eNV"
      },
      "source": [
        "Our model and data is ready. Now we need to train it."
      ]
    },
    {
      "cell_type": "code",
      "execution_count": null,
      "metadata": {
        "colab": {
          "base_uri": "https://localhost:8080/"
        },
        "id": "A0itfm1Ps_lN",
        "outputId": "cccb0d5c-dba6-45bf-80f5-249a1a23f4fd"
      },
      "outputs": [
        {
          "name": "stdout",
          "output_type": "stream",
          "text": [
            "Epoch 1 : \n",
            "Train Loss: 1.2646 Train Acc: 51.6917%\n",
            "Test Loss: 0.3710 Test Acc: 95.8333% \n",
            "Epoch 2 : \n",
            "Train Loss: 0.5347 Train Acc: 84.5865%\n",
            "Test Loss: 0.2110 Test Acc: 95.0000% \n",
            "Epoch 3 : \n",
            "Train Loss: 0.4305 Train Acc: 84.9624%\n",
            "Test Loss: 0.1910 Test Acc: 95.0000% \n",
            "Epoch 4 : \n",
            "Train Loss: 0.3449 Train Acc: 88.5338%\n",
            "Test Loss: 0.2066 Test Acc: 93.3333% \n",
            "Epoch 5 : \n",
            "Train Loss: 0.3261 Train Acc: 88.3459%\n",
            "Test Loss: 0.2353 Test Acc: 93.3333% \n",
            "Epoch 6 : \n",
            "Train Loss: 0.2773 Train Acc: 91.3534%\n",
            "Test Loss: 0.2078 Test Acc: 92.5000% \n",
            "Epoch 7 : \n",
            "Train Loss: 0.2470 Train Acc: 92.2932%\n",
            "Test Loss: 0.2069 Test Acc: 93.3333% \n",
            "Epoch 8 : \n",
            "Train Loss: 0.3181 Train Acc: 89.4737%\n",
            "Test Loss: 0.2080 Test Acc: 92.5000% \n",
            "Epoch 9 : \n",
            "Train Loss: 0.2239 Train Acc: 93.6090%\n",
            "Test Loss: 0.2501 Test Acc: 93.3333% \n",
            "Epoch 10 : \n",
            "Train Loss: 0.2531 Train Acc: 90.6015%\n",
            "Test Loss: 0.2015 Test Acc: 93.3333% \n",
            "Epoch 11 : \n",
            "Train Loss: 0.2265 Train Acc: 92.1053%\n",
            "Test Loss: 0.1880 Test Acc: 95.0000% \n",
            "Epoch 12 : \n",
            "Train Loss: 0.2248 Train Acc: 92.4812%\n",
            "Test Loss: 0.2023 Test Acc: 95.0000% \n",
            "Epoch 13 : \n",
            "Train Loss: 0.2276 Train Acc: 92.1053%\n",
            "Test Loss: 0.1566 Test Acc: 95.8333% \n",
            "Epoch 14 : \n",
            "Train Loss: 0.1878 Train Acc: 94.7368%\n",
            "Test Loss: 0.1861 Test Acc: 94.1667% \n",
            "Epoch 15 : \n",
            "Train Loss: 0.1954 Train Acc: 92.2932%\n",
            "Test Loss: 0.2352 Test Acc: 91.6667% \n",
            "Epoch 16 : \n",
            "Train Loss: 0.2150 Train Acc: 92.4812%\n",
            "Test Loss: 0.1948 Test Acc: 94.1667% \n",
            "Epoch 17 : \n",
            "Train Loss: 0.1909 Train Acc: 93.4211%\n",
            "Test Loss: 0.2347 Test Acc: 93.3333% \n",
            "Epoch 18 : \n",
            "Train Loss: 0.2024 Train Acc: 93.0451%\n",
            "Test Loss: 0.1649 Test Acc: 94.1667% \n",
            "Epoch 19 : \n",
            "Train Loss: 0.1965 Train Acc: 93.0451%\n",
            "Test Loss: 0.1835 Test Acc: 95.0000% \n",
            "Epoch 20 : \n",
            "Train Loss: 0.1392 Train Acc: 95.6767%\n",
            "Test Loss: 0.1626 Test Acc: 95.8333% \n"
          ]
        }
      ],
      "source": [
        "# Initialize number of epoch\n",
        "num_epochs = 20\n",
        "# Define few list to plot accuracy and loss\n",
        "train_loss = []\n",
        "test_loss = []\n",
        "train_acc = []\n",
        "test_acc = []\n",
        "\n",
        "# Iterate model for given epochs  \n",
        "for epoch in range(num_epochs):\n",
        "    print(\"Epoch {} : \".format(epoch+1))\n",
        "   \n",
        "    # Initialize Model training, loss. \n",
        "    model.train()    \n",
        "    running_loss = 0   \n",
        "    running_corrects = 0 \n",
        "    # load a batch data of images\n",
        "    for i, (inputs, labels) in enumerate(train_dataloader):\n",
        "        # Pass through device\n",
        "        inputs = inputs.to(device)\n",
        "        labels = labels.to(device) \n",
        "        # forward inputs and get output\n",
        "        optimizer.zero_grad()\n",
        "        outputs = model(inputs)\n",
        "        # Max\n",
        "        _, preds = torch.max(outputs, 1)\n",
        "        loss = criterion(outputs, labels)\n",
        "        # get loss value and update the network weights\n",
        "        loss.backward()\n",
        "        optimizer.step()\n",
        "        running_loss += loss.item() * inputs.size(0)\n",
        "        running_corrects += torch.sum(preds == labels.data)\n",
        "    epoch_loss = running_loss / len(train_dataset)\n",
        "    epoch_acc = running_corrects / len(train_dataset) * 100.\n",
        "    print('Train Loss: {:.4f} Train Acc: {:.4f}%'.format(epoch_loss, epoch_acc))\n",
        "    train_loss.append(epoch_loss)\n",
        "    train_acc.append(epoch_acc)\n",
        "    # Initialize validation\n",
        "    model.eval()\n",
        "    with torch.no_grad():\n",
        "        running_loss = 0.\n",
        "        running_corrects = 0\n",
        "        # Load the test data and pass it through model\n",
        "        for inputs, labels in test_dataloader:\n",
        "            inputs = inputs.to(device)\n",
        "            labels = labels.to(device)\n",
        "            outputs = model(inputs)\n",
        "            _, preds = torch.max(outputs, 1)\n",
        "            loss = criterion(outputs, labels)\n",
        "            running_loss += loss.item() * inputs.size(0)\n",
        "            running_corrects += torch.sum(preds == labels.data)\n",
        "        epoch_loss = running_loss / len(test_dataset)\n",
        "        epoch_acc = running_corrects / len(test_dataset) * 100\n",
        "        test_loss.append(epoch_loss)\n",
        "        test_acc.append(epoch_acc)\n",
        "        print('Test Loss: {:.4f} Test Acc: {:.4f}% '.format(epoch_loss, epoch_acc))"
      ]
    },
    {
      "cell_type": "code",
      "execution_count": null,
      "metadata": {
        "colab": {
          "base_uri": "https://localhost:8080/",
          "height": 295
        },
        "id": "DQZuDE9q_P1m",
        "outputId": "dddd52bf-3fd4-4808-9da6-321e6fbe7191"
      },
      "outputs": [
        {
          "data": {
            "image/png": "[encoded data removed]",
            "text/plain": [
              "<Figure size 432x288 with 2 Axes>"
            ]
          },
          "metadata": {
            "needs_background": "light"
          },
          "output_type": "display_data"
        }
      ],
      "source": [
        "# Plot the train and test accuracy\n",
        "plt.subplot(1, 2, 1)\n",
        "plt.plot(range(1,num_epochs+1), train_acc)\n",
        "plt.plot(range(1,num_epochs+1), test_acc)\n",
        "plt.title(\"Train and test accuracy\")\n",
        "plt.xlabel(\"Training Epochs\")\n",
        "plt.ylabel(\"Accuracy\")\n",
        "plt.legend(['training acc', 'Test accuracy'])\n",
        "\n",
        "plt.subplot(1, 2, 2)\n",
        "plt.plot(range(1,num_epochs+1), train_loss)\n",
        "plt.plot(range(1,num_epochs+1), test_loss)\n",
        "plt.title(\"Train and test loss.\")\n",
        "plt.xlabel(\"Training Epochs\")\n",
        "plt.ylabel(\"Loss\")\n",
        "plt.legend(['training loss', 'Test loss'])\n",
        "plt.show()"
      ]
    },
    {
      "cell_type": "code",
      "execution_count": null,
      "metadata": {
        "id": "3KFWcH5RtGRU"
      },
      "outputs": [],
      "source": [
        "# Save the trained model for further use. \n",
        "save_path = 'resnet18_trained_6.pth'\n",
        "torch.save(model.state_dict(), save_path)"
      ]
    },
    {
      "cell_type": "markdown",
      "metadata": {
        "id": "Zn49K2-1-QNP"
      },
      "source": [
        "Inference the model"
      ]
    },
    {
      "cell_type": "code",
      "execution_count": null,
      "metadata": {
        "colab": {
          "base_uri": "https://localhost:8080/"
        },
        "id": "HrErZQ70tT7z",
        "outputId": "d084438e-0f54-4983-bedf-9b555a2ac8e3"
      },
      "outputs": [
        {
          "data": {
            "text/plain": [
              "ResNet(\n",
              "  (conv1): Conv2d(3, 64, kernel_size=(7, 7), stride=(2, 2), padding=(3, 3), bias=False)\n",
              "  (bn1): BatchNorm2d(64, eps=1e-05, momentum=0.1, affine=True, track_running_stats=True)\n",
              "  (relu): ReLU(inplace=True)\n",
              "  (maxpool): MaxPool2d(kernel_size=3, stride=2, padding=1, dilation=1, ceil_mode=False)\n",
              "  (layer1): Sequential(\n",
              "    (0): BasicBlock(\n",
              "      (conv1): Conv2d(64, 64, kernel_size=(3, 3), stride=(1, 1), padding=(1, 1), bias=False)\n",
              "      (bn1): BatchNorm2d(64, eps=1e-05, momentum=0.1, affine=True, track_running_stats=True)\n",
              "      (relu): ReLU(inplace=True)\n",
              "      (conv2): Conv2d(64, 64, kernel_size=(3, 3), stride=(1, 1), padding=(1, 1), bias=False)\n",
              "      (bn2): BatchNorm2d(64, eps=1e-05, momentum=0.1, affine=True, track_running_stats=True)\n",
              "    )\n",
              "    (1): BasicBlock(\n",
              "      (conv1): Conv2d(64, 64, kernel_size=(3, 3), stride=(1, 1), padding=(1, 1), bias=False)\n",
              "      (bn1): BatchNorm2d(64, eps=1e-05, momentum=0.1, affine=True, track_running_stats=True)\n",
              "      (relu): ReLU(inplace=True)\n",
              "      (conv2): Conv2d(64, 64, kernel_size=(3, 3), stride=(1, 1), padding=(1, 1), bias=False)\n",
              "      (bn2): BatchNorm2d(64, eps=1e-05, momentum=0.1, affine=True, track_running_stats=True)\n",
              "    )\n",
              "  )\n",
              "  (layer2): Sequential(\n",
              "    (0): BasicBlock(\n",
              "      (conv1): Conv2d(64, 128, kernel_size=(3, 3), stride=(2, 2), padding=(1, 1), bias=False)\n",
              "      (bn1): BatchNorm2d(128, eps=1e-05, momentum=0.1, affine=True, track_running_stats=True)\n",
              "      (relu): ReLU(inplace=True)\n",
              "      (conv2): Conv2d(128, 128, kernel_size=(3, 3), stride=(1, 1), padding=(1, 1), bias=False)\n",
              "      (bn2): BatchNorm2d(128, eps=1e-05, momentum=0.1, affine=True, track_running_stats=True)\n",
              "      (downsample): Sequential(\n",
              "        (0): Conv2d(64, 128, kernel_size=(1, 1), stride=(2, 2), bias=False)\n",
              "        (1): BatchNorm2d(128, eps=1e-05, momentum=0.1, affine=True, track_running_stats=True)\n",
              "      )\n",
              "    )\n",
              "    (1): BasicBlock(\n",
              "      (conv1): Conv2d(128, 128, kernel_size=(3, 3), stride=(1, 1), padding=(1, 1), bias=False)\n",
              "      (bn1): BatchNorm2d(128, eps=1e-05, momentum=0.1, affine=True, track_running_stats=True)\n",
              "      (relu): ReLU(inplace=True)\n",
              "      (conv2): Conv2d(128, 128, kernel_size=(3, 3), stride=(1, 1), padding=(1, 1), bias=False)\n",
              "      (bn2): BatchNorm2d(128, eps=1e-05, momentum=0.1, affine=True, track_running_stats=True)\n",
              "    )\n",
              "  )\n",
              "  (layer3): Sequential(\n",
              "    (0): BasicBlock(\n",
              "      (conv1): Conv2d(128, 256, kernel_size=(3, 3), stride=(2, 2), padding=(1, 1), bias=False)\n",
              "      (bn1): BatchNorm2d(256, eps=1e-05, momentum=0.1, affine=True, track_running_stats=True)\n",
              "      (relu): ReLU(inplace=True)\n",
              "      (conv2): Conv2d(256, 256, kernel_size=(3, 3), stride=(1, 1), padding=(1, 1), bias=False)\n",
              "      (bn2): BatchNorm2d(256, eps=1e-05, momentum=0.1, affine=True, track_running_stats=True)\n",
              "      (downsample): Sequential(\n",
              "        (0): Conv2d(128, 256, kernel_size=(1, 1), stride=(2, 2), bias=False)\n",
              "        (1): BatchNorm2d(256, eps=1e-05, momentum=0.1, affine=True, track_running_stats=True)\n",
              "      )\n",
              "    )\n",
              "    (1): BasicBlock(\n",
              "      (conv1): Conv2d(256, 256, kernel_size=(3, 3), stride=(1, 1), padding=(1, 1), bias=False)\n",
              "      (bn1): BatchNorm2d(256, eps=1e-05, momentum=0.1, affine=True, track_running_stats=True)\n",
              "      (relu): ReLU(inplace=True)\n",
              "      (conv2): Conv2d(256, 256, kernel_size=(3, 3), stride=(1, 1), padding=(1, 1), bias=False)\n",
              "      (bn2): BatchNorm2d(256, eps=1e-05, momentum=0.1, affine=True, track_running_stats=True)\n",
              "    )\n",
              "  )\n",
              "  (layer4): Sequential(\n",
              "    (0): BasicBlock(\n",
              "      (conv1): Conv2d(256, 512, kernel_size=(3, 3), stride=(2, 2), padding=(1, 1), bias=False)\n",
              "      (bn1): BatchNorm2d(512, eps=1e-05, momentum=0.1, affine=True, track_running_stats=True)\n",
              "      (relu): ReLU(inplace=True)\n",
              "      (conv2): Conv2d(512, 512, kernel_size=(3, 3), stride=(1, 1), padding=(1, 1), bias=False)\n",
              "      (bn2): BatchNorm2d(512, eps=1e-05, momentum=0.1, affine=True, track_running_stats=True)\n",
              "      (downsample): Sequential(\n",
              "        (0): Conv2d(256, 512, kernel_size=(1, 1), stride=(2, 2), bias=False)\n",
              "        (1): BatchNorm2d(512, eps=1e-05, momentum=0.1, affine=True, track_running_stats=True)\n",
              "      )\n",
              "    )\n",
              "    (1): BasicBlock(\n",
              "      (conv1): Conv2d(512, 512, kernel_size=(3, 3), stride=(1, 1), padding=(1, 1), bias=False)\n",
              "      (bn1): BatchNorm2d(512, eps=1e-05, momentum=0.1, affine=True, track_running_stats=True)\n",
              "      (relu): ReLU(inplace=True)\n",
              "      (conv2): Conv2d(512, 512, kernel_size=(3, 3), stride=(1, 1), padding=(1, 1), bias=False)\n",
              "      (bn2): BatchNorm2d(512, eps=1e-05, momentum=0.1, affine=True, track_running_stats=True)\n",
              "    )\n",
              "  )\n",
              "  (avgpool): AdaptiveAvgPool2d(output_size=(1, 1))\n",
              "  (fc): Linear(in_features=512, out_features=6, bias=True)\n",
              ")"
            ]
          },
          "execution_count": 9,
          "metadata": {},
          "output_type": "execute_result"
        }
      ],
      "source": [
        "# Load model and test accuracy\n",
        "model.load_state_dict(torch.load(\"/content/resnet18_trained_6.pth\"))\n",
        "model.to(device)"
      ]
    },
    {
      "cell_type": "code",
      "execution_count": null,
      "metadata": {
        "colab": {
          "base_uri": "https://localhost:8080/"
        },
        "id": "Z60wyt19tU2s",
        "outputId": "9ec412fd-6286-4fff-bd06-925119db7848"
      },
      "outputs": [
        {
          "name": "stdout",
          "output_type": "stream",
          "text": [
            "Test Loss: 0.1626 Accuracy: 95.8333% \n"
          ]
        }
      ],
      "source": [
        "# Load test \n",
        "model.eval()\n",
        "criterion = nn.CrossEntropyLoss()\n",
        "optimizer = optim.SGD(model.parameters(), lr=0.001, momentum=0.9)\n",
        "with torch.no_grad():\n",
        "    running_loss = 0.\n",
        "    running_corrects = 0\n",
        "    for i, (inputs, labels) in enumerate(test_dataloader):\n",
        "        inputs = inputs.to(device)\n",
        "        labels = labels.to(device)\n",
        "        outputs = model(inputs)\n",
        "        _, preds = torch.max(outputs, 1)\n",
        "        loss = criterion(outputs, labels)\n",
        "        running_loss += loss.item() * inputs.size(0)\n",
        "        running_corrects += torch.sum(preds == labels.data)\n",
        "    epoch_loss = running_loss / len(test_dataset)\n",
        "    epoch_acc = running_corrects / len(test_dataset) * 100.\n",
        "    print('Test Loss: {:.4f} Accuracy: {:.4f}% '.\n",
        "          format(epoch_loss, epoch_acc))"
      ]
    }
  ],
  "metadata": {
    "accelerator": "TPU",
    "colab": {
      "provenance": []
    },
    "gpuClass": "standard",
    "kernelspec": {
      "display_name": "Python 3",
      "language": "python",
      "name": "python3"
    },
    "language_info": {
      "name": "python",
      "version": "3.9.8"
    },
    "vscode": {
      "interpreter": {
        "hash": "6d9b89c7e63616c22a2cabddc1acc43f30a47507b285eea022ec767ac20c4159"
      }
    },
    "widgets": {
      "application/vnd.jupyter.widget-state+json": {
        "2417b6824e0b4848b4257206a9185dbb": {
          "model_module": "@jupyter-widgets/controls",
          "model_module_version": "1.5.0",
          "model_name": "ProgressStyleModel",
          "state": {
            "_model_module": "@jupyter-widgets/controls",
            "_model_module_version": "1.5.0",
            "_model_name": "ProgressStyleModel",
            "_view_count": null,
            "_view_module": "@jupyter-widgets/base",
            "_view_module_version": "1.2.0",
            "_view_name": "StyleView",
            "bar_color": null,
            "description_width": ""
          }
        },
        "33ca895341c541059fdd904ee82838da": {
          "model_module": "@jupyter-widgets/controls",
          "model_module_version": "1.5.0",
          "model_name": "DescriptionStyleModel",
          "state": {
            "_model_module": "@jupyter-widgets/controls",
            "_model_module_version": "1.5.0",
            "_model_name": "DescriptionStyleModel",
            "_view_count": null,
            "_view_module": "@jupyter-widgets/base",
            "_view_module_version": "1.2.0",
            "_view_name": "StyleView",
            "description_width": ""
          }
        },
        "4a857f50b899427c9390fa46d394bb3d": {
          "model_module": "@jupyter-widgets/controls",
          "model_module_version": "1.5.0",
          "model_name": "FloatProgressModel",
          "state": {
            "_dom_classes": [],
            "_model_module": "@jupyter-widgets/controls",
            "_model_module_version": "1.5.0",
            "_model_name": "FloatProgressModel",
            "_view_count": null,
            "_view_module": "@jupyter-widgets/controls",
            "_view_module_version": "1.5.0",
            "_view_name": "ProgressView",
            "bar_style": "success",
            "description": "",
            "description_tooltip": null,
            "layout": "IPY_MODEL_f053c87951a6455d9c254203d47a47fa",
            "max": 46830571,
            "min": 0,
            "orientation": "horizontal",
            "style": "IPY_MODEL_2417b6824e0b4848b4257206a9185dbb",
            "value": 46830571
          }
        },
        "5ae4d5e57b3b4f35a19e9a71288cc7f0": {
          "model_module": "@jupyter-widgets/controls",
          "model_module_version": "1.5.0",
          "model_name": "DescriptionStyleModel",
          "state": {
            "_model_module": "@jupyter-widgets/controls",
            "_model_module_version": "1.5.0",
            "_model_name": "DescriptionStyleModel",
            "_view_count": null,
            "_view_module": "@jupyter-widgets/base",
            "_view_module_version": "1.2.0",
            "_view_name": "StyleView",
            "description_width": ""
          }
        },
        "66616efdfba04848858a51cbbebfc836": {
          "model_module": "@jupyter-widgets/controls",
          "model_module_version": "1.5.0",
          "model_name": "HBoxModel",
          "state": {
            "_dom_classes": [],
            "_model_module": "@jupyter-widgets/controls",
            "_model_module_version": "1.5.0",
            "_model_name": "HBoxModel",
            "_view_count": null,
            "_view_module": "@jupyter-widgets/controls",
            "_view_module_version": "1.5.0",
            "_view_name": "HBoxView",
            "box_style": "",
            "children": [
              "IPY_MODEL_e732504e0b344fb3b4dc769b9ebaeaf3",
              "IPY_MODEL_4a857f50b899427c9390fa46d394bb3d",
              "IPY_MODEL_88776b45b23f42789044e9977be371ba"
            ],
            "layout": "IPY_MODEL_68e9938c426f49398d1faed1bf21074d"
          }
        },
        "68e9938c426f49398d1faed1bf21074d": {
          "model_module": "@jupyter-widgets/base",
          "model_module_version": "1.2.0",
          "model_name": "LayoutModel",
          "state": {
            "_model_module": "@jupyter-widgets/base",
            "_model_module_version": "1.2.0",
            "_model_name": "LayoutModel",
            "_view_count": null,
            "_view_module": "@jupyter-widgets/base",
            "_view_module_version": "1.2.0",
            "_view_name": "LayoutView",
            "align_content": null,
            "align_items": null,
            "align_self": null,
            "border": null,
            "bottom": null,
            "display": null,
            "flex": null,
            "flex_flow": null,
            "grid_area": null,
            "grid_auto_columns": null,
            "grid_auto_flow": null,
            "grid_auto_rows": null,
            "grid_column": null,
            "grid_gap": null,
            "grid_row": null,
            "grid_template_areas": null,
            "grid_template_columns": null,
            "grid_template_rows": null,
            "height": null,
            "justify_content": null,
            "justify_items": null,
            "left": null,
            "margin": null,
            "max_height": null,
            "max_width": null,
            "min_height": null,
            "min_width": null,
            "object_fit": null,
            "object_position": null,
            "order": null,
            "overflow": null,
            "overflow_x": null,
            "overflow_y": null,
            "padding": null,
            "right": null,
            "top": null,
            "visibility": null,
            "width": null
          }
        },
        "88776b45b23f42789044e9977be371ba": {
          "model_module": "@jupyter-widgets/controls",
          "model_module_version": "1.5.0",
          "model_name": "HTMLModel",
          "state": {
            "_dom_classes": [],
            "_model_module": "@jupyter-widgets/controls",
            "_model_module_version": "1.5.0",
            "_model_name": "HTMLModel",
            "_view_count": null,
            "_view_module": "@jupyter-widgets/controls",
            "_view_module_version": "1.5.0",
            "_view_name": "HTMLView",
            "description": "",
            "description_tooltip": null,
            "layout": "IPY_MODEL_b58f9a19042d4b7083d37df288c8945b",
            "placeholder": "​",
            "style": "IPY_MODEL_5ae4d5e57b3b4f35a19e9a71288cc7f0",
            "value": " 44.7M/44.7M [00:00&lt;00:00, 136MB/s]"
          }
        },
        "b58f9a19042d4b7083d37df288c8945b": {
          "model_module": "@jupyter-widgets/base",
          "model_module_version": "1.2.0",
          "model_name": "LayoutModel",
          "state": {
            "_model_module": "@jupyter-widgets/base",
            "_model_module_version": "1.2.0",
            "_model_name": "LayoutModel",
            "_view_count": null,
            "_view_module": "@jupyter-widgets/base",
            "_view_module_version": "1.2.0",
            "_view_name": "LayoutView",
            "align_content": null,
            "align_items": null,
            "align_self": null,
            "border": null,
            "bottom": null,
            "display": null,
            "flex": null,
            "flex_flow": null,
            "grid_area": null,
            "grid_auto_columns": null,
            "grid_auto_flow": null,
            "grid_auto_rows": null,
            "grid_column": null,
            "grid_gap": null,
            "grid_row": null,
            "grid_template_areas": null,
            "grid_template_columns": null,
            "grid_template_rows": null,
            "height": null,
            "justify_content": null,
            "justify_items": null,
            "left": null,
            "margin": null,
            "max_height": null,
            "max_width": null,
            "min_height": null,
            "min_width": null,
            "object_fit": null,
            "object_position": null,
            "order": null,
            "overflow": null,
            "overflow_x": null,
            "overflow_y": null,
            "padding": null,
            "right": null,
            "top": null,
            "visibility": null,
            "width": null
          }
        },
        "c35e9d523e1d4a27af2dc7a02322e23e": {
          "model_module": "@jupyter-widgets/base",
          "model_module_version": "1.2.0",
          "model_name": "LayoutModel",
          "state": {
            "_model_module": "@jupyter-widgets/base",
            "_model_module_version": "1.2.0",
            "_model_name": "LayoutModel",
            "_view_count": null,
            "_view_module": "@jupyter-widgets/base",
            "_view_module_version": "1.2.0",
            "_view_name": "LayoutView",
            "align_content": null,
            "align_items": null,
            "align_self": null,
            "border": null,
            "bottom": null,
            "display": null,
            "flex": null,
            "flex_flow": null,
            "grid_area": null,
            "grid_auto_columns": null,
            "grid_auto_flow": null,
            "grid_auto_rows": null,
            "grid_column": null,
            "grid_gap": null,
            "grid_row": null,
            "grid_template_areas": null,
            "grid_template_columns": null,
            "grid_template_rows": null,
            "height": null,
            "justify_content": null,
            "justify_items": null,
            "left": null,
            "margin": null,
            "max_height": null,
            "max_width": null,
            "min_height": null,
            "min_width": null,
            "object_fit": null,
            "object_position": null,
            "order": null,
            "overflow": null,
            "overflow_x": null,
            "overflow_y": null,
            "padding": null,
            "right": null,
            "top": null,
            "visibility": null,
            "width": null
          }
        },
        "e732504e0b344fb3b4dc769b9ebaeaf3": {
          "model_module": "@jupyter-widgets/controls",
          "model_module_version": "1.5.0",
          "model_name": "HTMLModel",
          "state": {
            "_dom_classes": [],
            "_model_module": "@jupyter-widgets/controls",
            "_model_module_version": "1.5.0",
            "_model_name": "HTMLModel",
            "_view_count": null,
            "_view_module": "@jupyter-widgets/controls",
            "_view_module_version": "1.5.0",
            "_view_name": "HTMLView",
            "description": "",
            "description_tooltip": null,
            "layout": "IPY_MODEL_c35e9d523e1d4a27af2dc7a02322e23e",
            "placeholder": "​",
            "style": "IPY_MODEL_33ca895341c541059fdd904ee82838da",
            "value": "100%"
          }
        },
        "f053c87951a6455d9c254203d47a47fa": {
          "model_module": "@jupyter-widgets/base",
          "model_module_version": "1.2.0",
          "model_name": "LayoutModel",
          "state": {
            "_model_module": "@jupyter-widgets/base",
            "_model_module_version": "1.2.0",
            "_model_name": "LayoutModel",
            "_view_count": null,
            "_view_module": "@jupyter-widgets/base",
            "_view_module_version": "1.2.0",
            "_view_name": "LayoutView",
            "align_content": null,
            "align_items": null,
            "align_self": null,
            "border": null,
            "bottom": null,
            "display": null,
            "flex": null,
            "flex_flow": null,
            "grid_area": null,
            "grid_auto_columns": null,
            "grid_auto_flow": null,
            "grid_auto_rows": null,
            "grid_column": null,
            "grid_gap": null,
            "grid_row": null,
            "grid_template_areas": null,
            "grid_template_columns": null,
            "grid_template_rows": null,
            "height": null,
            "justify_content": null,
            "justify_items": null,
            "left": null,
            "margin": null,
            "max_height": null,
            "max_width": null,
            "min_height": null,
            "min_width": null,
            "object_fit": null,
            "object_position": null,
            "order": null,
            "overflow": null,
            "overflow_x": null,
            "overflow_y": null,
            "padding": null,
            "right": null,
            "top": null,
            "visibility": null,
            "width": null
          }
        }
      }
    }
  },
  "nbformat": 4,
  "nbformat_minor": 0
}
